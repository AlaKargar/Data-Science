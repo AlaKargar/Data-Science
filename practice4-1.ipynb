{
 "cells": [
  {
   "cell_type": "code",
   "execution_count": 7,
   "metadata": {},
   "outputs": [],
   "source": [
    "import pandas as pd\n",
    "from matplotlib import pyplot as plt"
   ]
  },
  {
   "cell_type": "code",
   "execution_count": 8,
   "metadata": {},
   "outputs": [],
   "source": [
    "df = pd.read_csv('dataset.csv')\n"
   ]
  },
  {
   "cell_type": "code",
   "execution_count": 9,
   "metadata": {},
   "outputs": [
    {
     "data": {
      "text/html": [
       "<div>\n",
       "<style scoped>\n",
       "    .dataframe tbody tr th:only-of-type {\n",
       "        vertical-align: middle;\n",
       "    }\n",
       "\n",
       "    .dataframe tbody tr th {\n",
       "        vertical-align: top;\n",
       "    }\n",
       "\n",
       "    .dataframe thead th {\n",
       "        text-align: right;\n",
       "    }\n",
       "</style>\n",
       "<table border=\"1\" class=\"dataframe\">\n",
       "  <thead>\n",
       "    <tr style=\"text-align: right;\">\n",
       "      <th></th>\n",
       "      <th>name</th>\n",
       "      <th>chain</th>\n",
       "      <th>type</th>\n",
       "      <th>seat</th>\n",
       "      <th>location</th>\n",
       "      <th>menu items</th>\n",
       "      <th>rate</th>\n",
       "      <th>telephone</th>\n",
       "    </tr>\n",
       "  </thead>\n",
       "  <tbody>\n",
       "    <tr>\n",
       "      <th>0</th>\n",
       "      <td>shila</td>\n",
       "      <td>True</td>\n",
       "      <td>Restaurant</td>\n",
       "      <td>50</td>\n",
       "      <td>1</td>\n",
       "      <td>59</td>\n",
       "      <td>4.7</td>\n",
       "      <td>88862491</td>\n",
       "    </tr>\n",
       "    <tr>\n",
       "      <th>1</th>\n",
       "      <td>land</td>\n",
       "      <td>True</td>\n",
       "      <td>Pizza</td>\n",
       "      <td>40</td>\n",
       "      <td>1</td>\n",
       "      <td>45</td>\n",
       "      <td>4.3</td>\n",
       "      <td>88215242</td>\n",
       "    </tr>\n",
       "    <tr>\n",
       "      <th>2</th>\n",
       "      <td>naam</td>\n",
       "      <td>False</td>\n",
       "      <td>Café</td>\n",
       "      <td>30</td>\n",
       "      <td>0</td>\n",
       "      <td>20</td>\n",
       "      <td>4.0</td>\n",
       "      <td>88922948</td>\n",
       "    </tr>\n",
       "    <tr>\n",
       "      <th>3</th>\n",
       "      <td>noon</td>\n",
       "      <td>True</td>\n",
       "      <td>Café</td>\n",
       "      <td>15</td>\n",
       "      <td>1</td>\n",
       "      <td>15</td>\n",
       "      <td>5.0</td>\n",
       "      <td>38449276</td>\n",
       "    </tr>\n",
       "    <tr>\n",
       "      <th>4</th>\n",
       "      <td>shabdiz</td>\n",
       "      <td>True</td>\n",
       "      <td>Restaurant</td>\n",
       "      <td>100</td>\n",
       "      <td>1</td>\n",
       "      <td>42</td>\n",
       "      <td>4.9</td>\n",
       "      <td>38666666</td>\n",
       "    </tr>\n",
       "    <tr>\n",
       "      <th>5</th>\n",
       "      <td>neyshekar</td>\n",
       "      <td>True</td>\n",
       "      <td>Pastry</td>\n",
       "      <td>0</td>\n",
       "      <td>1</td>\n",
       "      <td>8</td>\n",
       "      <td>4.0</td>\n",
       "      <td>3724 1053</td>\n",
       "    </tr>\n",
       "    <tr>\n",
       "      <th>6</th>\n",
       "      <td>naan reza</td>\n",
       "      <td>False</td>\n",
       "      <td>Bakery</td>\n",
       "      <td>0</td>\n",
       "      <td>0</td>\n",
       "      <td>3</td>\n",
       "      <td>4.0</td>\n",
       "      <td>32259269</td>\n",
       "    </tr>\n",
       "    <tr>\n",
       "      <th>7</th>\n",
       "      <td>chorak amin</td>\n",
       "      <td>False</td>\n",
       "      <td>Bakery</td>\n",
       "      <td>0</td>\n",
       "      <td>0</td>\n",
       "      <td>10</td>\n",
       "      <td>4.5</td>\n",
       "      <td>3876 2200</td>\n",
       "    </tr>\n",
       "    <tr>\n",
       "      <th>8</th>\n",
       "      <td>iran burger</td>\n",
       "      <td>NaN</td>\n",
       "      <td>Fast Food</td>\n",
       "      <td>20</td>\n",
       "      <td>1</td>\n",
       "      <td>40</td>\n",
       "      <td>4.7</td>\n",
       "      <td>3603 1616</td>\n",
       "    </tr>\n",
       "  </tbody>\n",
       "</table>\n",
       "</div>"
      ],
      "text/plain": [
       "          name  chain        type  seat  location  menu items  rate  telephone\n",
       "0        shila   True  Restaurant    50         1          59   4.7   88862491\n",
       "1         land   True       Pizza    40         1          45   4.3   88215242\n",
       "2         naam  False        Café    30         0          20   4.0   88922948\n",
       "3         noon   True        Café    15         1          15   5.0   38449276\n",
       "4      shabdiz   True  Restaurant   100         1          42   4.9   38666666\n",
       "5    neyshekar   True      Pastry     0         1           8   4.0  3724 1053\n",
       "6    naan reza  False      Bakery     0         0           3   4.0   32259269\n",
       "7  chorak amin  False      Bakery     0         0          10   4.5  3876 2200\n",
       "8  iran burger    NaN   Fast Food    20         1          40   4.7  3603 1616"
      ]
     },
     "execution_count": 9,
     "metadata": {},
     "output_type": "execute_result"
    }
   ],
   "source": [
    "df"
   ]
  },
  {
   "cell_type": "code",
   "execution_count": 10,
   "metadata": {},
   "outputs": [
    {
     "data": {
      "text/html": [
       "<div>\n",
       "<style scoped>\n",
       "    .dataframe tbody tr th:only-of-type {\n",
       "        vertical-align: middle;\n",
       "    }\n",
       "\n",
       "    .dataframe tbody tr th {\n",
       "        vertical-align: top;\n",
       "    }\n",
       "\n",
       "    .dataframe thead th {\n",
       "        text-align: right;\n",
       "    }\n",
       "</style>\n",
       "<table border=\"1\" class=\"dataframe\">\n",
       "  <thead>\n",
       "    <tr style=\"text-align: right;\">\n",
       "      <th></th>\n",
       "      <th>chain</th>\n",
       "      <th>type</th>\n",
       "      <th>seat</th>\n",
       "      <th>location</th>\n",
       "      <th>menu items</th>\n",
       "      <th>rate</th>\n",
       "      <th>telephone</th>\n",
       "    </tr>\n",
       "  </thead>\n",
       "  <tbody>\n",
       "    <tr>\n",
       "      <th>0</th>\n",
       "      <td>True</td>\n",
       "      <td>Restaurant</td>\n",
       "      <td>50</td>\n",
       "      <td>1</td>\n",
       "      <td>59</td>\n",
       "      <td>4.7</td>\n",
       "      <td>88862491</td>\n",
       "    </tr>\n",
       "    <tr>\n",
       "      <th>1</th>\n",
       "      <td>True</td>\n",
       "      <td>Pizza</td>\n",
       "      <td>40</td>\n",
       "      <td>1</td>\n",
       "      <td>45</td>\n",
       "      <td>4.3</td>\n",
       "      <td>88215242</td>\n",
       "    </tr>\n",
       "    <tr>\n",
       "      <th>2</th>\n",
       "      <td>False</td>\n",
       "      <td>Café</td>\n",
       "      <td>30</td>\n",
       "      <td>0</td>\n",
       "      <td>20</td>\n",
       "      <td>4.0</td>\n",
       "      <td>88922948</td>\n",
       "    </tr>\n",
       "    <tr>\n",
       "      <th>3</th>\n",
       "      <td>True</td>\n",
       "      <td>Café</td>\n",
       "      <td>15</td>\n",
       "      <td>1</td>\n",
       "      <td>15</td>\n",
       "      <td>5.0</td>\n",
       "      <td>38449276</td>\n",
       "    </tr>\n",
       "    <tr>\n",
       "      <th>4</th>\n",
       "      <td>True</td>\n",
       "      <td>Restaurant</td>\n",
       "      <td>100</td>\n",
       "      <td>1</td>\n",
       "      <td>42</td>\n",
       "      <td>4.9</td>\n",
       "      <td>38666666</td>\n",
       "    </tr>\n",
       "    <tr>\n",
       "      <th>5</th>\n",
       "      <td>True</td>\n",
       "      <td>Pastry</td>\n",
       "      <td>0</td>\n",
       "      <td>1</td>\n",
       "      <td>8</td>\n",
       "      <td>4.0</td>\n",
       "      <td>3724 1053</td>\n",
       "    </tr>\n",
       "    <tr>\n",
       "      <th>6</th>\n",
       "      <td>False</td>\n",
       "      <td>Bakery</td>\n",
       "      <td>0</td>\n",
       "      <td>0</td>\n",
       "      <td>3</td>\n",
       "      <td>4.0</td>\n",
       "      <td>32259269</td>\n",
       "    </tr>\n",
       "    <tr>\n",
       "      <th>7</th>\n",
       "      <td>False</td>\n",
       "      <td>Bakery</td>\n",
       "      <td>0</td>\n",
       "      <td>0</td>\n",
       "      <td>10</td>\n",
       "      <td>4.5</td>\n",
       "      <td>3876 2200</td>\n",
       "    </tr>\n",
       "    <tr>\n",
       "      <th>8</th>\n",
       "      <td>NaN</td>\n",
       "      <td>Fast Food</td>\n",
       "      <td>20</td>\n",
       "      <td>1</td>\n",
       "      <td>40</td>\n",
       "      <td>4.7</td>\n",
       "      <td>3603 1616</td>\n",
       "    </tr>\n",
       "  </tbody>\n",
       "</table>\n",
       "</div>"
      ],
      "text/plain": [
       "   chain        type  seat  location  menu items  rate  telephone\n",
       "0   True  Restaurant    50         1          59   4.7   88862491\n",
       "1   True       Pizza    40         1          45   4.3   88215242\n",
       "2  False        Café    30         0          20   4.0   88922948\n",
       "3   True        Café    15         1          15   5.0   38449276\n",
       "4   True  Restaurant   100         1          42   4.9   38666666\n",
       "5   True      Pastry     0         1           8   4.0  3724 1053\n",
       "6  False      Bakery     0         0           3   4.0   32259269\n",
       "7  False      Bakery     0         0          10   4.5  3876 2200\n",
       "8    NaN   Fast Food    20         1          40   4.7  3603 1616"
      ]
     },
     "execution_count": 10,
     "metadata": {},
     "output_type": "execute_result"
    }
   ],
   "source": [
    "df.drop(['name'] , axis=1, inplace=True)\n",
    "df['chain']\n",
    "df"
   ]
  },
  {
   "cell_type": "code",
   "execution_count": 11,
   "metadata": {},
   "outputs": [
    {
     "name": "stdout",
     "output_type": "stream",
     "text": [
      "<class 'pandas.core.frame.DataFrame'>\n",
      "RangeIndex: 9 entries, 0 to 8\n",
      "Data columns (total 7 columns):\n",
      " #   Column      Non-Null Count  Dtype  \n",
      "---  ------      --------------  -----  \n",
      " 0   chain       8 non-null      object \n",
      " 1   type        9 non-null      object \n",
      " 2   seat        9 non-null      int64  \n",
      " 3   location    9 non-null      int64  \n",
      " 4   menu items  9 non-null      int64  \n",
      " 5   rate        9 non-null      float64\n",
      " 6   telephone   9 non-null      object \n",
      "dtypes: float64(1), int64(3), object(3)\n",
      "memory usage: 636.0+ bytes\n"
     ]
    }
   ],
   "source": [
    "df.info()"
   ]
  },
  {
   "cell_type": "code",
   "execution_count": 12,
   "metadata": {},
   "outputs": [
    {
     "data": {
      "text/html": [
       "<div>\n",
       "<style scoped>\n",
       "    .dataframe tbody tr th:only-of-type {\n",
       "        vertical-align: middle;\n",
       "    }\n",
       "\n",
       "    .dataframe tbody tr th {\n",
       "        vertical-align: top;\n",
       "    }\n",
       "\n",
       "    .dataframe thead th {\n",
       "        text-align: right;\n",
       "    }\n",
       "</style>\n",
       "<table border=\"1\" class=\"dataframe\">\n",
       "  <thead>\n",
       "    <tr style=\"text-align: right;\">\n",
       "      <th></th>\n",
       "      <th>chain</th>\n",
       "      <th>type</th>\n",
       "      <th>seat</th>\n",
       "      <th>location</th>\n",
       "      <th>menu items</th>\n",
       "      <th>rate</th>\n",
       "      <th>telephone</th>\n",
       "    </tr>\n",
       "  </thead>\n",
       "  <tbody>\n",
       "    <tr>\n",
       "      <th>8</th>\n",
       "      <td>NaN</td>\n",
       "      <td>Fast Food</td>\n",
       "      <td>20</td>\n",
       "      <td>1</td>\n",
       "      <td>40</td>\n",
       "      <td>4.7</td>\n",
       "      <td>3603 1616</td>\n",
       "    </tr>\n",
       "  </tbody>\n",
       "</table>\n",
       "</div>"
      ],
      "text/plain": [
       "  chain       type  seat  location  menu items  rate  telephone\n",
       "8   NaN  Fast Food    20         1          40   4.7  3603 1616"
      ]
     },
     "execution_count": 12,
     "metadata": {},
     "output_type": "execute_result"
    }
   ],
   "source": [
    "df[df['chain'].isnull()]"
   ]
  },
  {
   "cell_type": "code",
   "execution_count": 13,
   "metadata": {},
   "outputs": [
    {
     "data": {
      "text/plain": [
       "array([True, False, nan], dtype=object)"
      ]
     },
     "execution_count": 13,
     "metadata": {},
     "output_type": "execute_result"
    }
   ],
   "source": [
    "df['chain'].unique()"
   ]
  },
  {
   "cell_type": "code",
   "execution_count": 14,
   "metadata": {},
   "outputs": [
    {
     "data": {
      "text/plain": [
       "chain\n",
       "True     5\n",
       "False    3\n",
       "Name: count, dtype: int64"
      ]
     },
     "execution_count": 14,
     "metadata": {},
     "output_type": "execute_result"
    }
   ],
   "source": [
    "df['chain'].value_counts()"
   ]
  },
  {
   "cell_type": "code",
   "execution_count": 15,
   "metadata": {},
   "outputs": [
    {
     "name": "stderr",
     "output_type": "stream",
     "text": [
      "C:\\Users\\Ala\\AppData\\Local\\Temp\\ipykernel_8824\\3271104005.py:1: FutureWarning: A value is trying to be set on a copy of a DataFrame or Series through chained assignment using an inplace method.\n",
      "The behavior will change in pandas 3.0. This inplace method will never work because the intermediate object on which we are setting values always behaves as a copy.\n",
      "\n",
      "For example, when doing 'df[col].method(value, inplace=True)', try using 'df.method({col: value}, inplace=True)' or df[col] = df[col].method(value) instead, to perform the operation inplace on the original object.\n",
      "\n",
      "\n",
      "  df['chain'].fillna(False, inplace=True)\n",
      "C:\\Users\\Ala\\AppData\\Local\\Temp\\ipykernel_8824\\3271104005.py:1: FutureWarning: Downcasting object dtype arrays on .fillna, .ffill, .bfill is deprecated and will change in a future version. Call result.infer_objects(copy=False) instead. To opt-in to the future behavior, set `pd.set_option('future.no_silent_downcasting', True)`\n",
      "  df['chain'].fillna(False, inplace=True)\n"
     ]
    }
   ],
   "source": [
    "df['chain'].fillna(False, inplace=True)\n"
   ]
  },
  {
   "cell_type": "code",
   "execution_count": 16,
   "metadata": {},
   "outputs": [
    {
     "data": {
      "text/plain": [
       "np.int64(0)"
      ]
     },
     "execution_count": 16,
     "metadata": {},
     "output_type": "execute_result"
    }
   ],
   "source": [
    "df['chain'].isnull().sum()"
   ]
  },
  {
   "cell_type": "code",
   "execution_count": 18,
   "metadata": {},
   "outputs": [],
   "source": [
    "df.drop_duplicates(inplace=True)"
   ]
  },
  {
   "cell_type": "code",
   "execution_count": 19,
   "metadata": {},
   "outputs": [
    {
     "data": {
      "text/plain": [
       "type\n",
       "Restaurant    2\n",
       "Café          2\n",
       "Bakery        2\n",
       "Pizza         1\n",
       "Pastry        1\n",
       "Fast Food     1\n",
       "Name: count, dtype: int64"
      ]
     },
     "execution_count": 19,
     "metadata": {},
     "output_type": "execute_result"
    }
   ],
   "source": [
    "tedad_type = df['type'].value_counts()\n",
    "tedad_type"
   ]
  },
  {
   "cell_type": "code",
   "execution_count": 20,
   "metadata": {},
   "outputs": [
    {
     "data": {
      "image/png": "[encoded data removed]",
      "text/plain": [
       "<Figure size 640x480 with 1 Axes>"
      ]
     },
     "metadata": {},
     "output_type": "display_data"
    }
   ],
   "source": [
    "tedad_type.plot(kind='bar', rot=0)\n",
    "\n",
    "plt.xlabel('BUSINESSES TYPES')\n",
    "plt.ylabel('COUNT OF BUSINESSES')\n",
    "\n",
    "plt.show()"
   ]
  },
  {
   "cell_type": "code",
   "execution_count": 27,
   "metadata": {},
   "outputs": [
    {
     "data": {
      "image/png": "[encoded data removed]",
      "text/plain": [
       "<Figure size 640x480 with 1 Axes>"
      ]
     },
     "metadata": {},
     "output_type": "display_data"
    }
   ],
   "source": [
    "protation_chain = df['chain'].value_counts()\n",
    "\n",
    "fig, ax = plt.subplots(facecolor='white')\n",
    "ax.pie(protation_chain, labels=['NON CHAIN', 'CHAIN'], autopct='%1.1f%%', startangle=90)\n",
    "ax.set_title('COUNT OF CHAIN AND NON CHAIN BUSINESSES: ')\n",
    "\n",
    "plt.show()"
   ]
  },
  {
   "cell_type": "code",
   "execution_count": 28,
   "metadata": {},
   "outputs": [
    {
     "data": {
      "text/plain": [
       "type        chain\n",
       "Café        False    1\n",
       "            True     1\n",
       "Fast Food   False    1\n",
       "Pastry      True     1\n",
       "Pizza       True     1\n",
       "Bakery      False    2\n",
       "Restaurant  True     2\n",
       "Name: chain, dtype: int64"
      ]
     },
     "execution_count": 28,
     "metadata": {},
     "output_type": "execute_result"
    }
   ],
   "source": [
    "zanjire = df.groupby(['type', 'chain'])['chain'].count().sort_values()\n",
    "zanjire"
   ]
  },
  {
   "cell_type": "code",
   "execution_count": 29,
   "metadata": {},
   "outputs": [
    {
     "data": {
      "image/png": "[encoded data removed]",
      "text/plain": [
       "<Figure size 640x480 with 1 Axes>"
      ]
     },
     "metadata": {},
     "output_type": "display_data"
    }
   ],
   "source": [
    "zanjire.plot(kind='bar', rot=45)\n",
    "\n",
    "plt.xlabel(\"\")\n",
    "plt.title(\"chain and non chain businesses:\")\n",
    "\n",
    "plt.show()"
   ]
  },
  {
   "cell_type": "code",
   "execution_count": 30,
   "metadata": {},
   "outputs": [
    {
     "data": {
      "text/html": [
       "<div>\n",
       "<style scoped>\n",
       "    .dataframe tbody tr th:only-of-type {\n",
       "        vertical-align: middle;\n",
       "    }\n",
       "\n",
       "    .dataframe tbody tr th {\n",
       "        vertical-align: top;\n",
       "    }\n",
       "\n",
       "    .dataframe thead th {\n",
       "        text-align: right;\n",
       "    }\n",
       "</style>\n",
       "<table border=\"1\" class=\"dataframe\">\n",
       "  <thead>\n",
       "    <tr style=\"text-align: right;\">\n",
       "      <th></th>\n",
       "      <th>chain</th>\n",
       "      <th>type</th>\n",
       "      <th>seat</th>\n",
       "      <th>location</th>\n",
       "      <th>menu items</th>\n",
       "      <th>rate</th>\n",
       "      <th>telephone</th>\n",
       "    </tr>\n",
       "  </thead>\n",
       "  <tbody>\n",
       "    <tr>\n",
       "      <th>0</th>\n",
       "      <td>True</td>\n",
       "      <td>Restaurant</td>\n",
       "      <td>50</td>\n",
       "      <td>1</td>\n",
       "      <td>59</td>\n",
       "      <td>4.7</td>\n",
       "      <td>88862491</td>\n",
       "    </tr>\n",
       "    <tr>\n",
       "      <th>1</th>\n",
       "      <td>True</td>\n",
       "      <td>Pizza</td>\n",
       "      <td>40</td>\n",
       "      <td>1</td>\n",
       "      <td>45</td>\n",
       "      <td>4.3</td>\n",
       "      <td>88215242</td>\n",
       "    </tr>\n",
       "    <tr>\n",
       "      <th>3</th>\n",
       "      <td>True</td>\n",
       "      <td>Café</td>\n",
       "      <td>15</td>\n",
       "      <td>1</td>\n",
       "      <td>15</td>\n",
       "      <td>5.0</td>\n",
       "      <td>38449276</td>\n",
       "    </tr>\n",
       "    <tr>\n",
       "      <th>4</th>\n",
       "      <td>True</td>\n",
       "      <td>Restaurant</td>\n",
       "      <td>100</td>\n",
       "      <td>1</td>\n",
       "      <td>42</td>\n",
       "      <td>4.9</td>\n",
       "      <td>38666666</td>\n",
       "    </tr>\n",
       "    <tr>\n",
       "      <th>5</th>\n",
       "      <td>True</td>\n",
       "      <td>Pastry</td>\n",
       "      <td>0</td>\n",
       "      <td>1</td>\n",
       "      <td>8</td>\n",
       "      <td>4.0</td>\n",
       "      <td>3724 1053</td>\n",
       "    </tr>\n",
       "  </tbody>\n",
       "</table>\n",
       "</div>"
      ],
      "text/plain": [
       "   chain        type  seat  location  menu items  rate  telephone\n",
       "0   True  Restaurant    50         1          59   4.7   88862491\n",
       "1   True       Pizza    40         1          45   4.3   88215242\n",
       "3   True        Café    15         1          15   5.0   38449276\n",
       "4   True  Restaurant   100         1          42   4.9   38666666\n",
       "5   True      Pastry     0         1           8   4.0  3724 1053"
      ]
     },
     "execution_count": 30,
     "metadata": {},
     "output_type": "execute_result"
    }
   ],
   "source": [
    "is_chain = df[df['chain'] == True]\n",
    "is_chain"
   ]
  },
  {
   "cell_type": "code",
   "execution_count": 31,
   "metadata": {},
   "outputs": [
    {
     "name": "stdout",
     "output_type": "stream",
     "text": [
      "count      5.000000\n",
      "mean      41.000000\n",
      "std       38.470768\n",
      "min        0.000000\n",
      "25%       15.000000\n",
      "50%       40.000000\n",
      "75%       50.000000\n",
      "max      100.000000\n",
      "Name: seat, dtype: float64\n"
     ]
    }
   ],
   "source": [
    "print(is_chain['seat'].describe())"
   ]
  },
  {
   "cell_type": "code",
   "execution_count": 33,
   "metadata": {},
   "outputs": [
    {
     "data": {
      "text/plain": [
       "type\n",
       "Restaurant    2\n",
       "Café          2\n",
       "Bakery        2\n",
       "Pizza         1\n",
       "Pastry        1\n",
       "Fast Food     1\n",
       "Name: count, dtype: int64"
      ]
     },
     "execution_count": 33,
     "metadata": {},
     "output_type": "execute_result"
    }
   ],
   "source": [
    "rate=df[df['rate']> 3.5]\n",
    "rate['type'].value_counts()"
   ]
  },
  {
   "cell_type": "code",
   "execution_count": 34,
   "metadata": {},
   "outputs": [],
   "source": [
    "def f(x):\n",
    "    if x < 14:\n",
    "        return 'few'\n",
    "    else:\n",
    "        return 'many'"
   ]
  },
  {
   "cell_type": "code",
   "execution_count": 35,
   "metadata": {},
   "outputs": [
    {
     "data": {
      "text/html": [
       "<div>\n",
       "<style scoped>\n",
       "    .dataframe tbody tr th:only-of-type {\n",
       "        vertical-align: middle;\n",
       "    }\n",
       "\n",
       "    .dataframe tbody tr th {\n",
       "        vertical-align: top;\n",
       "    }\n",
       "\n",
       "    .dataframe thead th {\n",
       "        text-align: right;\n",
       "    }\n",
       "</style>\n",
       "<table border=\"1\" class=\"dataframe\">\n",
       "  <thead>\n",
       "    <tr style=\"text-align: right;\">\n",
       "      <th></th>\n",
       "      <th>chain</th>\n",
       "      <th>type</th>\n",
       "      <th>seat</th>\n",
       "      <th>location</th>\n",
       "      <th>menu items</th>\n",
       "      <th>rate</th>\n",
       "      <th>telephone</th>\n",
       "      <th>menu</th>\n",
       "    </tr>\n",
       "  </thead>\n",
       "  <tbody>\n",
       "    <tr>\n",
       "      <th>0</th>\n",
       "      <td>True</td>\n",
       "      <td>Restaurant</td>\n",
       "      <td>50</td>\n",
       "      <td>1</td>\n",
       "      <td>59</td>\n",
       "      <td>4.7</td>\n",
       "      <td>88862491</td>\n",
       "      <td>many</td>\n",
       "    </tr>\n",
       "    <tr>\n",
       "      <th>1</th>\n",
       "      <td>True</td>\n",
       "      <td>Pizza</td>\n",
       "      <td>40</td>\n",
       "      <td>1</td>\n",
       "      <td>45</td>\n",
       "      <td>4.3</td>\n",
       "      <td>88215242</td>\n",
       "      <td>many</td>\n",
       "    </tr>\n",
       "    <tr>\n",
       "      <th>2</th>\n",
       "      <td>False</td>\n",
       "      <td>Café</td>\n",
       "      <td>30</td>\n",
       "      <td>0</td>\n",
       "      <td>20</td>\n",
       "      <td>4.0</td>\n",
       "      <td>88922948</td>\n",
       "      <td>many</td>\n",
       "    </tr>\n",
       "    <tr>\n",
       "      <th>3</th>\n",
       "      <td>True</td>\n",
       "      <td>Café</td>\n",
       "      <td>15</td>\n",
       "      <td>1</td>\n",
       "      <td>15</td>\n",
       "      <td>5.0</td>\n",
       "      <td>38449276</td>\n",
       "      <td>many</td>\n",
       "    </tr>\n",
       "    <tr>\n",
       "      <th>4</th>\n",
       "      <td>True</td>\n",
       "      <td>Restaurant</td>\n",
       "      <td>100</td>\n",
       "      <td>1</td>\n",
       "      <td>42</td>\n",
       "      <td>4.9</td>\n",
       "      <td>38666666</td>\n",
       "      <td>many</td>\n",
       "    </tr>\n",
       "    <tr>\n",
       "      <th>5</th>\n",
       "      <td>True</td>\n",
       "      <td>Pastry</td>\n",
       "      <td>0</td>\n",
       "      <td>1</td>\n",
       "      <td>8</td>\n",
       "      <td>4.0</td>\n",
       "      <td>3724 1053</td>\n",
       "      <td>few</td>\n",
       "    </tr>\n",
       "    <tr>\n",
       "      <th>6</th>\n",
       "      <td>False</td>\n",
       "      <td>Bakery</td>\n",
       "      <td>0</td>\n",
       "      <td>0</td>\n",
       "      <td>3</td>\n",
       "      <td>4.0</td>\n",
       "      <td>32259269</td>\n",
       "      <td>few</td>\n",
       "    </tr>\n",
       "    <tr>\n",
       "      <th>7</th>\n",
       "      <td>False</td>\n",
       "      <td>Bakery</td>\n",
       "      <td>0</td>\n",
       "      <td>0</td>\n",
       "      <td>10</td>\n",
       "      <td>4.5</td>\n",
       "      <td>3876 2200</td>\n",
       "      <td>few</td>\n",
       "    </tr>\n",
       "    <tr>\n",
       "      <th>8</th>\n",
       "      <td>False</td>\n",
       "      <td>Fast Food</td>\n",
       "      <td>20</td>\n",
       "      <td>1</td>\n",
       "      <td>40</td>\n",
       "      <td>4.7</td>\n",
       "      <td>3603 1616</td>\n",
       "      <td>many</td>\n",
       "    </tr>\n",
       "  </tbody>\n",
       "</table>\n",
       "</div>"
      ],
      "text/plain": [
       "   chain        type  seat  location  menu items  rate  telephone  menu\n",
       "0   True  Restaurant    50         1          59   4.7   88862491  many\n",
       "1   True       Pizza    40         1          45   4.3   88215242  many\n",
       "2  False        Café    30         0          20   4.0   88922948  many\n",
       "3   True        Café    15         1          15   5.0   38449276  many\n",
       "4   True  Restaurant   100         1          42   4.9   38666666  many\n",
       "5   True      Pastry     0         1           8   4.0  3724 1053   few\n",
       "6  False      Bakery     0         0           3   4.0   32259269   few\n",
       "7  False      Bakery     0         0          10   4.5  3876 2200   few\n",
       "8  False   Fast Food    20         1          40   4.7  3603 1616  many"
      ]
     },
     "execution_count": 35,
     "metadata": {},
     "output_type": "execute_result"
    }
   ],
   "source": [
    "rate['menu'] = rate['menu items'].apply(f)\n",
    "rate"
   ]
  },
  {
   "cell_type": "code",
   "execution_count": 36,
   "metadata": {},
   "outputs": [
    {
     "data": {
      "text/plain": [
       "menu\n",
       "many    6\n",
       "few     3\n",
       "Name: count, dtype: int64"
      ]
     },
     "execution_count": 36,
     "metadata": {},
     "output_type": "execute_result"
    }
   ],
   "source": [
    "menu_daste = rate['menu'].value_counts()\n",
    "menu_daste"
   ]
  },
  {
   "cell_type": "code",
   "execution_count": 37,
   "metadata": {},
   "outputs": [
    {
     "data": {
      "text/plain": [
       "Text(0.5, 1.0, 'COUNT OF MENU ITEMS OF BUSINESSES THEY HAVE RATE > 3.5')"
      ]
     },
     "execution_count": 37,
     "metadata": {},
     "output_type": "execute_result"
    },
    {
     "data": {
      "image/png": "[encoded data removed]",
      "text/plain": [
       "<Figure size 640x480 with 1 Axes>"
      ]
     },
     "metadata": {},
     "output_type": "display_data"
    }
   ],
   "source": [
    "menu_daste.plot(kind='bar')\n",
    "\n",
    "plt.xlabel(\"COUNT OF MENU ITEMS\")\n",
    "plt.ylabel(\"COUNT OF BUSINESSES\")\n",
    "plt.title(\"COUNT OF MENU ITEMS OF BUSINESSES THEY HAVE RATE > 3.5\")"
   ]
  }
 ],
 "metadata": {
  "kernelspec": {
   "display_name": "Python 3",
   "language": "python",
   "name": "python3"
  },
  "language_info": {
   "codemirror_mode": {
    "name": "ipython",
    "version": 3
   },
   "file_extension": ".py",
   "mimetype": "text/x-python",
   "name": "python",
   "nbconvert_exporter": "python",
   "pygments_lexer": "ipython3",
   "version": "3.12.4"
  }
 },
 "nbformat": 4,
 "nbformat_minor": 2
}
